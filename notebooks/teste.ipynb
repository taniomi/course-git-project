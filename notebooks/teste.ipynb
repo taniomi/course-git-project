{
 "cells": [
  {
   "cell_type": "code",
   "execution_count": 4,
   "id": "ba42e32a-71b6-432a-9afe-93ab93915273",
   "metadata": {},
   "outputs": [
    {
     "name": "stdout",
     "output_type": "stream",
     "text": [
      "dev1\n"
     ]
    }
   ],
   "source": [
    "print(\"dev1\")"
   ]
  },
  {
   "cell_type": "code",
   "execution_count": 5,
   "id": "50618da5-cf1a-42f5-9088-da4379016667",
   "metadata": {},
   "outputs": [
    {
     "name": "stdout",
     "output_type": "stream",
     "text": [
      "dev2\n"
     ]
    }
   ],
   "source": [
    "print(\"dev2\")"
   ]
  },
  {
   "cell_type": "code",
   "execution_count": 6,
   "id": "51970848-1a8e-462a-b684-ddc43b50226e",
   "metadata": {},
   "outputs": [
    {
     "name": "stdout",
     "output_type": "stream",
     "text": [
      "dev3\n"
     ]
    }
   ],
   "source": [
    "print(\"dev3\")"
   ]
  }
 ],
 "metadata": {
  "kernelspec": {
   "display_name": "Python 3 (ipykernel)",
   "language": "python",
   "name": "python3"
  },
  "language_info": {
   "codemirror_mode": {
    "name": "ipython",
    "version": 3
   },
   "file_extension": ".py",
   "mimetype": "text/x-python",
   "name": "python",
   "nbconvert_exporter": "python",
   "pygments_lexer": "ipython3",
   "version": "3.11.5"
  }
 },
 "nbformat": 4,
 "nbformat_minor": 5
}
