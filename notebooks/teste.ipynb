{
 "cells": [
  {
   "cell_type": "code",
   "execution_count": 1,
   "id": "e5b57556-1e24-4519-bb80-878427c60b26",
   "metadata": {},
   "outputs": [
    {
     "name": "stdout",
     "output_type": "stream",
     "text": [
      "dev1\n"
     ]
    }
   ],
   "source": [
    "print(\"dev1\")"
   ]
  },
  {
   "cell_type": "code",
   "execution_count": 2,
   "id": "a98f051c-4bb1-4dab-bdea-b5db6623112c",
   "metadata": {},
   "outputs": [
    {
     "name": "stdout",
     "output_type": "stream",
     "text": [
      "dev2\n"
     ]
    }
   ],
   "source": [
    "print(\"dev2\")"
   ]
  },
  {
   "cell_type": "code",
   "execution_count": 3,
   "id": "552dd8ff-21c1-4262-a9d4-d45d3e848881",
   "metadata": {},
   "outputs": [
    {
     "name": "stdout",
     "output_type": "stream",
     "text": [
      "dev3\n"
     ]
    }
   ],
   "source": [
    "print(\"dev3\")"
   ]
  }
 ],
 "metadata": {
  "kernelspec": {
   "display_name": "Python 3 (ipykernel)",
   "language": "python",
   "name": "python3"
  },
  "language_info": {
   "codemirror_mode": {
    "name": "ipython",
    "version": 3
   },
   "file_extension": ".py",
   "mimetype": "text/x-python",
   "name": "python",
   "nbconvert_exporter": "python",
   "pygments_lexer": "ipython3",
   "version": "3.11.5"
  }
 },
 "nbformat": 4,
 "nbformat_minor": 5
}
